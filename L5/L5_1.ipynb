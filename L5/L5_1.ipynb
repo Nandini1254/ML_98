{
  "nbformat": 4,
  "nbformat_minor": 0,
  "metadata": {
    "colab": {
      "name": "L5_1.ipynb",
      "provenance": [],
      "collapsed_sections": []
    },
    "kernelspec": {
      "name": "python3",
      "display_name": "Python 3"
    },
    "language_info": {
      "name": "python"
    }
  },
  "cells": [
    {
      "cell_type": "markdown",
      "source": [
        "Task -1 "
      ],
      "metadata": {
        "id": "LCi-ifmAxu5R"
      }
    },
    {
      "cell_type": "code",
      "source": [
        "from sklearn.preprocessing import OneHotEncoder\n",
        "from sklearn.tree import DecisionTreeClassifier\n",
        "\n",
        "\n",
        "from sklearn.model_selection import train_test_split\n",
        "\n",
        "#weather dataset\n",
        "Outlook = ['Rainy', 'Rainy', 'Overcast', 'Sunny', 'Sunny', 'Sunny','Overcast',\n",
        "'Rainy', 'Rainy', 'Sunny', 'Rainy','Overcast', 'Overcast','Sunny']\n",
        "\n",
        "Temperature = ['Hot', 'Hot', 'Hot', 'Mild', 'Cool', 'Cool', 'Cool',\n",
        "'Mild', 'Cool', 'Mild', 'Mild', 'Mild', 'Hot', 'Mild']\n",
        "\n",
        "Humidity = ['High', 'High', 'High', 'High', 'Normal', 'Normal', 'Normal',\n",
        "'High', 'Normal', 'Normal', 'Normal', 'High', 'Normal','High']\n",
        "\n",
        "Wind = ['False', 'True', 'False', 'False', 'False', 'True', 'True',\n",
        "'False', 'False', 'False', 'True', 'True', 'False', 'True']\n",
        "\n",
        "#Class Label:\n",
        "Play = ['No', 'No', 'Yes', 'Yes', 'Yes', 'No', 'Yes', 'No',\n",
        "'Yes', 'Yes', 'Yes', 'Yes', 'Yes', 'No']\n",
        "\n",
        "# make array/dataset\n",
        "dataset= tuple(zip(Outlook,Temperature,Humidity,Wind))\n",
        "\n",
        "#one hot encodeing\n",
        "encoded_dataset=OneHotEncoder().fit_transform(dataset).toarray()\n",
        "\n",
        "\n",
        "#split data set into train and test sets\n",
        "data_train, data_test,target_train,target_test= train_test_split(encoded_dataset,\n",
        "Play, test_size = 0.25, random_state = 98)\n",
        "print(data_train)\n",
        "\n"
      ],
      "metadata": {
        "colab": {
          "base_uri": "https://localhost:8080/"
        },
        "id": "kXNXvX4NxuJA",
        "outputId": "b6587525-7713-4f33-e5d8-af220d09efc0"
      },
      "execution_count": 8,
      "outputs": [
        {
          "output_type": "stream",
          "name": "stdout",
          "text": [
            "[[1. 0. 0. 0. 1. 0. 1. 0. 1. 0.]\n",
            " [1. 0. 0. 0. 1. 0. 0. 1. 1. 0.]\n",
            " [1. 0. 0. 1. 0. 0. 0. 1. 0. 1.]\n",
            " [0. 1. 0. 0. 0. 1. 1. 0. 1. 0.]\n",
            " [1. 0. 0. 0. 0. 1. 1. 0. 0. 1.]\n",
            " [0. 1. 0. 0. 1. 0. 1. 0. 0. 1.]\n",
            " [0. 0. 1. 0. 0. 1. 0. 1. 1. 0.]\n",
            " [0. 0. 1. 1. 0. 0. 0. 1. 1. 0.]\n",
            " [0. 0. 1. 0. 0. 1. 1. 0. 0. 1.]\n",
            " [0. 1. 0. 0. 0. 1. 0. 1. 0. 1.]]\n"
          ]
        }
      ]
    },
    {
      "cell_type": "code",
      "source": [
        "#tree spilt\n",
        "\n",
        "weather_gini = DecisionTreeClassifier(criterion = \"gini\", random_state = 98,max_depth = 3, min_samples_leaf = 5)\n",
        "\n",
        "# //train the model of tree with data (.fit)\n",
        "\n",
        "weather_gini=weather_gini.fit(data_train,target_train)\n",
        "\n",
        "from sklearn.metrics import confusion_matrix\n",
        "from sklearn.metrics import accuracy_score\n",
        "from sklearn.metrics import classification_report\n",
        "\n",
        "# //predict the data test\n",
        "prediction=weather_gini.predict(data_test)\n",
        "\n",
        "print(\"Confusion Matrix: \",confusion_matrix(target_test, prediction))  \n",
        "print (\"Accuracy : \",accuracy_score(target_test,prediction)*100)\n",
        "\n",
        "\n",
        "from sklearn import metrics\n",
        "\n",
        "# //to print the report of classification of prdiction and test data\n",
        "print(metrics.classification_report(target_test, prediction))\n",
        "\n",
        "\n",
        "# //to genarate decision tree as graph\n",
        "from sklearn.tree import export_graphviz\n",
        "\n",
        "#export_graphviz(weather_gini,out_file='w_tree.dot',feature_names=['outlook','temperature','humidity','wind'],class_names=['do_not_play','play'], filled=True)\n",
        "\n",
        "from subprocess import call\n",
        "# call(['dot', '-Tpng', 'w_tree.dot', '-o', 'w_tree.png', '-Gdpi=600'])\n",
        "\n",
        "\n",
        "#print the tree\n",
        "import matplotlib.pyplot as plt\n",
        "\n",
        "# plt.figure(figsize = (14, 18))\n",
        "# plt.imshow(plt.imread('w_tree.png'))\n",
        "# plt.axis('off')\n",
        "# plt.show()"
      ],
      "metadata": {
        "colab": {
          "base_uri": "https://localhost:8080/"
        },
        "id": "fmTAr5H-3oxB",
        "outputId": "ceb7c1f2-1d53-45c5-a681-1b9d58797a16"
      },
      "execution_count": 12,
      "outputs": [
        {
          "output_type": "stream",
          "name": "stdout",
          "text": [
            "Confusion Matrix:  [[1 1]\n",
            " [1 1]]\n",
            "Accuracy :  50.0\n",
            "              precision    recall  f1-score   support\n",
            "\n",
            "          No       0.50      0.50      0.50         2\n",
            "         Yes       0.50      0.50      0.50         2\n",
            "\n",
            "    accuracy                           0.50         4\n",
            "   macro avg       0.50      0.50      0.50         4\n",
            "weighted avg       0.50      0.50      0.50         4\n",
            "\n"
          ]
        }
      ]
    }
  ]
}